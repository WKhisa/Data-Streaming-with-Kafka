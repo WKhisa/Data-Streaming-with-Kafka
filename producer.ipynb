{
  "nbformat": 4,
  "nbformat_minor": 0,
  "metadata": {
    "colab": {
      "provenance": [],
      "authorship_tag": "ABX9TyPOL9C/LOPEX0DjYAgeAcoY",
      "include_colab_link": true
    },
    "kernelspec": {
      "name": "python3",
      "display_name": "Python 3"
    },
    "language_info": {
      "name": "python"
    }
  },
  "cells": [
    {
      "cell_type": "markdown",
      "metadata": {
        "id": "view-in-github",
        "colab_type": "text"
      },
      "source": [
        "<a href=\"https://colab.research.google.com/github/WKhisa/Data-Streaming-with-Kafka/blob/main/producer.ipynb\" target=\"_parent\"><img src=\"https://colab.research.google.com/assets/colab-badge.svg\" alt=\"Open In Colab\"/></a>"
      ]
    },
    {
      "cell_type": "code",
      "execution_count": null,
      "metadata": {
        "id": "qA-COY1pl00X"
      },
      "outputs": [],
      "source": [
        "from confluent_kafka import Producer, AdminClient, NewTopic\n",
        "import json\n",
        "\n",
        "# Define Kafka broker address\n",
        "bootstrap_servers = \"pkc-6ojv2.us-west4.gcp.confluent.cloud:9092\"\n",
        "\n",
        "# Define the topic name\n",
        "pipeline_topic = \"pipeline\"\n",
        "\n",
        "# Function to create a Kafka topic if it doesn't exist\n",
        "def create_topic_if_not_exists(admin_client, topic_name):\n",
        "    if topic_name not in admin_client.list_topics().topics:\n",
        "        new_topic = NewTopic(topic_name, num_partitions=1, replication_factor=1)\n",
        "        admin_client.create_topics([new_topic])\n",
        "        print(f\"Topic '{topic_name}' created.\")\n",
        "\n",
        "# Function to produce JSON data to a Kafka topic\n",
        "def produce_to_kafka_topic(producer, topic_name, json_file_path):\n",
        "    try:\n",
        "        with open(json_file_path) as json_file:\n",
        "            for line in json_file:\n",
        "                producer.produce(topic_name, value=line.encode(\"utf-8\"))\n",
        "        producer.flush()\n",
        "        print(f\"Data from '{json_file_path}' sent to '{topic_name}' successfully.\")\n",
        "    except Exception as e:\n",
        "        print(\"Error while sending data to Kafka:\", e)\n",
        "\n",
        "if __name__ == \"__main__\":\n",
        "    # Create an Admin client\n",
        "    admin_client = AdminClient({\"bootstrap.servers\": bootstrap_servers})\n",
        "\n",
        "    # Create the Kafka topic if it doesn't exist\n",
        "    create_topic_if_not_exists(admin_client, pipeline_topic)\n",
        "\n",
        "    # Create a Kafka producer\n",
        "    producer = Producer({\"bootstrap.servers\": bootstrap_servers})\n",
        "\n",
        "    # Define the path to the JSON file\n",
        "    input_json_file = \"https://raw.githubusercontent.com/WKhisa/Data-Streaming-with-Kafka/main/input.json\"\n",
        "\n",
        "    # Produce data from the JSON file to the Kafka topic\n",
        "    produce_to_kafka_topic(producer, pipeline_topic, input_json_file)\n"
      ]
    }
  ]
}
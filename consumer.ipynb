{
  "nbformat": 4,
  "nbformat_minor": 0,
  "metadata": {
    "colab": {
      "provenance": [],
      "authorship_tag": "ABX9TyOvfB6Z6azYbU07k7M3OqnQ",
      "include_colab_link": true
    },
    "kernelspec": {
      "name": "python3",
      "display_name": "Python 3"
    },
    "language_info": {
      "name": "python"
    }
  },
  "cells": [
    {
      "cell_type": "markdown",
      "metadata": {
        "id": "view-in-github",
        "colab_type": "text"
      },
      "source": [
        "<a href=\"https://colab.research.google.com/github/WKhisa/Data-Streaming-with-Kafka/blob/main/consumer.ipynb\" target=\"_parent\"><img src=\"https://colab.research.google.com/assets/colab-badge.svg\" alt=\"Open In Colab\"/></a>"
      ]
    },
    {
      "cell_type": "code",
      "execution_count": null,
      "metadata": {
        "id": "KNw8NAAEpjjC"
      },
      "outputs": [],
      "source": [
        "from confluent_kafka import Consumer, KafkaError\n",
        "import json\n",
        "\n",
        "\n",
        "# Function to check if topic exists\n",
        "def topic_exists(client,topic_name):\n",
        "    topic_metadata = client.list_topics()\n",
        "    topics = [t.topic for t in iter(topic_metadata.topics.values())]\n",
        "    if topic_name in topics:\n",
        "        return True\n",
        "    return False\n",
        "\n",
        "# Function to describe topic: get total messages\n",
        "def describe_topic(client,topic_name):\n",
        "    resource = ConfigResource('topic', topic_name)\n",
        "    result_dict = client.describe_configs([resource])\n",
        "    config_entries = result_dict[resource].result()\n",
        "    return config_entries\n",
        "\n",
        "# Function to consume from the kafka topic\n",
        "def consume_from_topic(consumer,topic):\n",
        "    if not topic_exists:\n",
        "        print(\"The topic '{}' does not exist!\".format(topic))\n",
        "        return\n",
        "    consumer.subscribe(['{}'.format(topic)])\n",
        "    while True:\n",
        "        msg = consumer.poll(1.0)\n",
        "        if msg is None:\n",
        "            continue\n",
        "        if msg.error():\n",
        "            if msg.error().code() == KafkaError._PARTITION_EOF:\n",
        "                print(\"End of Partition reached.\")\n",
        "            else:\n",
        "                print(\"Error while consuming message: \", msg.error())\n",
        "        else:\n",
        "            print(\"Message Received: \", msg.value().decode(\"utf-8\"))\n",
        "    return\n",
        "\n",
        "\n",
        "if __name__ == '__main__':\n",
        "    # Topic name\n",
        "    pipeline_topic = 'pipeline'\n",
        "\n",
        "    # Set up Kafka consumer to read from \"pipeline\" topic\n",
        "    consumer_config = {\n",
        "            'bootstrap.servers':'pkc-6ojv2.us-west4.gcp.confluent.cloud:9092',\n",
        "            'group.id': 'pipeline_1',\n",
        "            'auto.offset.reset': 'earliest',\n",
        "            'enable.auto.commit': False\n",
        "    }\n",
        "\n",
        "    consumer = Consumer(consumer_config)\n",
        "\n",
        "    print(consumer.list_topics().topics)\n",
        "\n",
        "    # Consume from the kafka topic\n",
        "    consume_from_topic(consumer,pipeline_topic)"
      ]
    }
  ]
}